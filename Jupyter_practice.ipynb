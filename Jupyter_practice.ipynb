{
 "cells": [
  {
   "cell_type": "code",
   "execution_count": null,
   "id": "6171ba6d",
   "metadata": {},
   "outputs": [],
   "source": [
    "# Module 4.2.1 - Create your virtual data development env\n",
    "# Module 4.2.2 - Activate/deactivate/delete development environment\n",
    "# Module 4.2.3 - Create and Clone a New GitHub Repository\n",
    "# Module 4.3.1  - Add a development environment to your Jupyter Notebook, Start Jupyter Notebook and check the developoment\n",
    "# environment \n",
    "# Module 4.3.2 - Create new Jupyter Notebook file and call it Jupyter_practice.ipynb\n",
    "# Module 4.3.3 - Overview of Jupyter Notebook environment"
   ]
  },
  {
   "cell_type": "code",
   "execution_count": null,
   "id": "4ccf9f34",
   "metadata": {},
   "outputs": [],
   "source": []
  }
 ],
 "metadata": {
  "kernelspec": {
   "display_name": "PythonData",
   "language": "python",
   "name": "pythondata"
  },
  "language_info": {
   "codemirror_mode": {
    "name": "ipython",
    "version": 3
   },
   "file_extension": ".py",
   "mimetype": "text/x-python",
   "name": "python",
   "nbconvert_exporter": "python",
   "pygments_lexer": "ipython3",
   "version": "3.8.5"
  }
 },
 "nbformat": 4,
 "nbformat_minor": 5
}
